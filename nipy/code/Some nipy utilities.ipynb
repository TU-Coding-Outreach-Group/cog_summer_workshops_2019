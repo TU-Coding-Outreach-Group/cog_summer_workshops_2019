{
 "cells": [
  {
   "cell_type": "markdown",
   "metadata": {},
   "source": [
    "# Some python packages for working with MRI images\n",
    "> I like using python and jupyter notebooks because they end up being easy for me and help me keep things organized. If you find that the logic for how objects work, or documentation doesn't  help you don't feel pressured to use these tools. However I wanted to use this workshop to introduce these tools so that with a little bit of work we can have the same ease of use for these things.\n",
    " \n",
    " \n",
    "## Let's manipulate some images:\n",
    "> This isn't in BIDS format because I'm lazy and did this quickly but hopefully the organization here makes some sense. You should have a bunch of 'raw' single trial images across 4 runs for participant 111. These are 'high-res' images that we need to put together in order."
   ]
  },
  {
   "cell_type": "code",
   "execution_count": null,
   "metadata": {},
   "outputs": [],
   "source": []
  }
 ],
 "metadata": {
  "kernelspec": {
   "display_name": "Python 2",
   "language": "python",
   "name": "python2"
  },
  "language_info": {
   "codemirror_mode": {
    "name": "ipython",
    "version": 2
   },
   "file_extension": ".py",
   "mimetype": "text/x-python",
   "name": "python",
   "nbconvert_exporter": "python",
   "pygments_lexer": "ipython2",
   "version": "2.7.16"
  }
 },
 "nbformat": 4,
 "nbformat_minor": 2
}
